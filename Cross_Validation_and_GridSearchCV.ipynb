{
  "nbformat": 4,
  "nbformat_minor": 0,
  "metadata": {
    "colab": {
      "provenance": []
    },
    "kernelspec": {
      "name": "python3",
      "display_name": "Python 3"
    },
    "language_info": {
      "name": "python"
    }
  },
  "cells": [
    {
      "cell_type": "code",
      "source": [
        "import numpy as np\n",
        "import pandas as pd\n",
        "import matplotlib.pyplot as plt\n",
        "import seaborn as sns\n",
        "\n",
        "from sklearn.datasets import load_breast_cancer\n",
        "from sklearn.model_selection import train_test_split, cross_val_score, GridSearchCV\n",
        "from sklearn.linear_model import LogisticRegression\n",
        "from sklearn.tree import DecisionTreeClassifier\n",
        "from sklearn.metrics import accuracy_score, classification_report, confusion_matrix"
      ],
      "metadata": {
        "id": "DIDRREzNR37P"
      },
      "execution_count": null,
      "outputs": []
    },
    {
      "cell_type": "markdown",
      "source": [
        "# Cross-Validation and GridSearchCV with Scikit-learn\n"
      ],
      "metadata": {
        "id": "qBjm9AeORx5f"
      }
    },
    {
      "cell_type": "markdown",
      "source": [
        "In this notebook, we will cover:\n",
        "\n",
        "- What is Cross-Validation?\n",
        "- Why is it needed in classification?\n",
        "- k-Fold Cross-Validation explained\n",
        "- Using `cross_val_score` for classification\n",
        "- What is GridSearchCV?\n",
        "- How to use GridSearchCV with Logistic Regression and Decision Tree Classifier\n",
        "\n",
        "We'll use the **Breast Cancer Wisconsin Dataset** for classification tasks."
      ],
      "metadata": {
        "id": "OTeFxndkR1TW"
      }
    },
    {
      "cell_type": "markdown",
      "source": [
        "## Load and Inspect Dataset\n",
        "\n",
        "We'll load the Breast Cancer dataset and convert it into a pandas DataFrame."
      ],
      "metadata": {
        "id": "Z4xrrJ5fR9ol"
      }
    },
    {
      "cell_type": "code",
      "execution_count": null,
      "metadata": {
        "id": "mEuxwngRRrVj"
      },
      "outputs": [],
      "source": [
        "data = load_breast_cancer()\n",
        "X = pd.DataFrame(data.data, columns=data.feature_names)\n",
        "y = pd.Series(data.target, name='Cancer')  # 0 = malignant, 1 = benign"
      ]
    },
    {
      "cell_type": "code",
      "source": [
        "X.head()"
      ],
      "metadata": {
        "colab": {
          "base_uri": "https://localhost:8080/",
          "height": 290
        },
        "id": "oOYInelHSC6-",
        "outputId": "739bbd3a-9bb7-42a9-e99c-c4d7f36f7bcd"
      },
      "execution_count": null,
      "outputs": [
        {
          "output_type": "execute_result",
          "data": {
            "text/plain": [
              "   mean radius  mean texture  mean perimeter  mean area  mean smoothness  \\\n",
              "0        17.99         10.38          122.80     1001.0          0.11840   \n",
              "1        20.57         17.77          132.90     1326.0          0.08474   \n",
              "2        19.69         21.25          130.00     1203.0          0.10960   \n",
              "3        11.42         20.38           77.58      386.1          0.14250   \n",
              "4        20.29         14.34          135.10     1297.0          0.10030   \n",
              "\n",
              "   mean compactness  mean concavity  mean concave points  mean symmetry  \\\n",
              "0           0.27760          0.3001              0.14710         0.2419   \n",
              "1           0.07864          0.0869              0.07017         0.1812   \n",
              "2           0.15990          0.1974              0.12790         0.2069   \n",
              "3           0.28390          0.2414              0.10520         0.2597   \n",
              "4           0.13280          0.1980              0.10430         0.1809   \n",
              "\n",
              "   mean fractal dimension  ...  worst radius  worst texture  worst perimeter  \\\n",
              "0                 0.07871  ...         25.38          17.33           184.60   \n",
              "1                 0.05667  ...         24.99          23.41           158.80   \n",
              "2                 0.05999  ...         23.57          25.53           152.50   \n",
              "3                 0.09744  ...         14.91          26.50            98.87   \n",
              "4                 0.05883  ...         22.54          16.67           152.20   \n",
              "\n",
              "   worst area  worst smoothness  worst compactness  worst concavity  \\\n",
              "0      2019.0            0.1622             0.6656           0.7119   \n",
              "1      1956.0            0.1238             0.1866           0.2416   \n",
              "2      1709.0            0.1444             0.4245           0.4504   \n",
              "3       567.7            0.2098             0.8663           0.6869   \n",
              "4      1575.0            0.1374             0.2050           0.4000   \n",
              "\n",
              "   worst concave points  worst symmetry  worst fractal dimension  \n",
              "0                0.2654          0.4601                  0.11890  \n",
              "1                0.1860          0.2750                  0.08902  \n",
              "2                0.2430          0.3613                  0.08758  \n",
              "3                0.2575          0.6638                  0.17300  \n",
              "4                0.1625          0.2364                  0.07678  \n",
              "\n",
              "[5 rows x 30 columns]"
            ],
            "text/html": [
              "\n",
              "  <div id=\"df-5db4f96f-40da-44b5-80f6-74f426e439a3\" class=\"colab-df-container\">\n",
              "    <div>\n",
              "<style scoped>\n",
              "    .dataframe tbody tr th:only-of-type {\n",
              "        vertical-align: middle;\n",
              "    }\n",
              "\n",
              "    .dataframe tbody tr th {\n",
              "        vertical-align: top;\n",
              "    }\n",
              "\n",
              "    .dataframe thead th {\n",
              "        text-align: right;\n",
              "    }\n",
              "</style>\n",
              "<table border=\"1\" class=\"dataframe\">\n",
              "  <thead>\n",
              "    <tr style=\"text-align: right;\">\n",
              "      <th></th>\n",
              "      <th>mean radius</th>\n",
              "      <th>mean texture</th>\n",
              "      <th>mean perimeter</th>\n",
              "      <th>mean area</th>\n",
              "      <th>mean smoothness</th>\n",
              "      <th>mean compactness</th>\n",
              "      <th>mean concavity</th>\n",
              "      <th>mean concave points</th>\n",
              "      <th>mean symmetry</th>\n",
              "      <th>mean fractal dimension</th>\n",
              "      <th>...</th>\n",
              "      <th>worst radius</th>\n",
              "      <th>worst texture</th>\n",
              "      <th>worst perimeter</th>\n",
              "      <th>worst area</th>\n",
              "      <th>worst smoothness</th>\n",
              "      <th>worst compactness</th>\n",
              "      <th>worst concavity</th>\n",
              "      <th>worst concave points</th>\n",
              "      <th>worst symmetry</th>\n",
              "      <th>worst fractal dimension</th>\n",
              "    </tr>\n",
              "  </thead>\n",
              "  <tbody>\n",
              "    <tr>\n",
              "      <th>0</th>\n",
              "      <td>17.99</td>\n",
              "      <td>10.38</td>\n",
              "      <td>122.80</td>\n",
              "      <td>1001.0</td>\n",
              "      <td>0.11840</td>\n",
              "      <td>0.27760</td>\n",
              "      <td>0.3001</td>\n",
              "      <td>0.14710</td>\n",
              "      <td>0.2419</td>\n",
              "      <td>0.07871</td>\n",
              "      <td>...</td>\n",
              "      <td>25.38</td>\n",
              "      <td>17.33</td>\n",
              "      <td>184.60</td>\n",
              "      <td>2019.0</td>\n",
              "      <td>0.1622</td>\n",
              "      <td>0.6656</td>\n",
              "      <td>0.7119</td>\n",
              "      <td>0.2654</td>\n",
              "      <td>0.4601</td>\n",
              "      <td>0.11890</td>\n",
              "    </tr>\n",
              "    <tr>\n",
              "      <th>1</th>\n",
              "      <td>20.57</td>\n",
              "      <td>17.77</td>\n",
              "      <td>132.90</td>\n",
              "      <td>1326.0</td>\n",
              "      <td>0.08474</td>\n",
              "      <td>0.07864</td>\n",
              "      <td>0.0869</td>\n",
              "      <td>0.07017</td>\n",
              "      <td>0.1812</td>\n",
              "      <td>0.05667</td>\n",
              "      <td>...</td>\n",
              "      <td>24.99</td>\n",
              "      <td>23.41</td>\n",
              "      <td>158.80</td>\n",
              "      <td>1956.0</td>\n",
              "      <td>0.1238</td>\n",
              "      <td>0.1866</td>\n",
              "      <td>0.2416</td>\n",
              "      <td>0.1860</td>\n",
              "      <td>0.2750</td>\n",
              "      <td>0.08902</td>\n",
              "    </tr>\n",
              "    <tr>\n",
              "      <th>2</th>\n",
              "      <td>19.69</td>\n",
              "      <td>21.25</td>\n",
              "      <td>130.00</td>\n",
              "      <td>1203.0</td>\n",
              "      <td>0.10960</td>\n",
              "      <td>0.15990</td>\n",
              "      <td>0.1974</td>\n",
              "      <td>0.12790</td>\n",
              "      <td>0.2069</td>\n",
              "      <td>0.05999</td>\n",
              "      <td>...</td>\n",
              "      <td>23.57</td>\n",
              "      <td>25.53</td>\n",
              "      <td>152.50</td>\n",
              "      <td>1709.0</td>\n",
              "      <td>0.1444</td>\n",
              "      <td>0.4245</td>\n",
              "      <td>0.4504</td>\n",
              "      <td>0.2430</td>\n",
              "      <td>0.3613</td>\n",
              "      <td>0.08758</td>\n",
              "    </tr>\n",
              "    <tr>\n",
              "      <th>3</th>\n",
              "      <td>11.42</td>\n",
              "      <td>20.38</td>\n",
              "      <td>77.58</td>\n",
              "      <td>386.1</td>\n",
              "      <td>0.14250</td>\n",
              "      <td>0.28390</td>\n",
              "      <td>0.2414</td>\n",
              "      <td>0.10520</td>\n",
              "      <td>0.2597</td>\n",
              "      <td>0.09744</td>\n",
              "      <td>...</td>\n",
              "      <td>14.91</td>\n",
              "      <td>26.50</td>\n",
              "      <td>98.87</td>\n",
              "      <td>567.7</td>\n",
              "      <td>0.2098</td>\n",
              "      <td>0.8663</td>\n",
              "      <td>0.6869</td>\n",
              "      <td>0.2575</td>\n",
              "      <td>0.6638</td>\n",
              "      <td>0.17300</td>\n",
              "    </tr>\n",
              "    <tr>\n",
              "      <th>4</th>\n",
              "      <td>20.29</td>\n",
              "      <td>14.34</td>\n",
              "      <td>135.10</td>\n",
              "      <td>1297.0</td>\n",
              "      <td>0.10030</td>\n",
              "      <td>0.13280</td>\n",
              "      <td>0.1980</td>\n",
              "      <td>0.10430</td>\n",
              "      <td>0.1809</td>\n",
              "      <td>0.05883</td>\n",
              "      <td>...</td>\n",
              "      <td>22.54</td>\n",
              "      <td>16.67</td>\n",
              "      <td>152.20</td>\n",
              "      <td>1575.0</td>\n",
              "      <td>0.1374</td>\n",
              "      <td>0.2050</td>\n",
              "      <td>0.4000</td>\n",
              "      <td>0.1625</td>\n",
              "      <td>0.2364</td>\n",
              "      <td>0.07678</td>\n",
              "    </tr>\n",
              "  </tbody>\n",
              "</table>\n",
              "<p>5 rows × 30 columns</p>\n",
              "</div>\n",
              "    <div class=\"colab-df-buttons\">\n",
              "\n",
              "  <div class=\"colab-df-container\">\n",
              "    <button class=\"colab-df-convert\" onclick=\"convertToInteractive('df-5db4f96f-40da-44b5-80f6-74f426e439a3')\"\n",
              "            title=\"Convert this dataframe to an interactive table.\"\n",
              "            style=\"display:none;\">\n",
              "\n",
              "  <svg xmlns=\"http://www.w3.org/2000/svg\" height=\"24px\" viewBox=\"0 -960 960 960\">\n",
              "    <path d=\"M120-120v-720h720v720H120Zm60-500h600v-160H180v160Zm220 220h160v-160H400v160Zm0 220h160v-160H400v160ZM180-400h160v-160H180v160Zm440 0h160v-160H620v160ZM180-180h160v-160H180v160Zm440 0h160v-160H620v160Z\"/>\n",
              "  </svg>\n",
              "    </button>\n",
              "\n",
              "  <style>\n",
              "    .colab-df-container {\n",
              "      display:flex;\n",
              "      gap: 12px;\n",
              "    }\n",
              "\n",
              "    .colab-df-convert {\n",
              "      background-color: #E8F0FE;\n",
              "      border: none;\n",
              "      border-radius: 50%;\n",
              "      cursor: pointer;\n",
              "      display: none;\n",
              "      fill: #1967D2;\n",
              "      height: 32px;\n",
              "      padding: 0 0 0 0;\n",
              "      width: 32px;\n",
              "    }\n",
              "\n",
              "    .colab-df-convert:hover {\n",
              "      background-color: #E2EBFA;\n",
              "      box-shadow: 0px 1px 2px rgba(60, 64, 67, 0.3), 0px 1px 3px 1px rgba(60, 64, 67, 0.15);\n",
              "      fill: #174EA6;\n",
              "    }\n",
              "\n",
              "    .colab-df-buttons div {\n",
              "      margin-bottom: 4px;\n",
              "    }\n",
              "\n",
              "    [theme=dark] .colab-df-convert {\n",
              "      background-color: #3B4455;\n",
              "      fill: #D2E3FC;\n",
              "    }\n",
              "\n",
              "    [theme=dark] .colab-df-convert:hover {\n",
              "      background-color: #434B5C;\n",
              "      box-shadow: 0px 1px 3px 1px rgba(0, 0, 0, 0.15);\n",
              "      filter: drop-shadow(0px 1px 2px rgba(0, 0, 0, 0.3));\n",
              "      fill: #FFFFFF;\n",
              "    }\n",
              "  </style>\n",
              "\n",
              "    <script>\n",
              "      const buttonEl =\n",
              "        document.querySelector('#df-5db4f96f-40da-44b5-80f6-74f426e439a3 button.colab-df-convert');\n",
              "      buttonEl.style.display =\n",
              "        google.colab.kernel.accessAllowed ? 'block' : 'none';\n",
              "\n",
              "      async function convertToInteractive(key) {\n",
              "        const element = document.querySelector('#df-5db4f96f-40da-44b5-80f6-74f426e439a3');\n",
              "        const dataTable =\n",
              "          await google.colab.kernel.invokeFunction('convertToInteractive',\n",
              "                                                    [key], {});\n",
              "        if (!dataTable) return;\n",
              "\n",
              "        const docLinkHtml = 'Like what you see? Visit the ' +\n",
              "          '<a target=\"_blank\" href=https://colab.research.google.com/notebooks/data_table.ipynb>data table notebook</a>'\n",
              "          + ' to learn more about interactive tables.';\n",
              "        element.innerHTML = '';\n",
              "        dataTable['output_type'] = 'display_data';\n",
              "        await google.colab.output.renderOutput(dataTable, element);\n",
              "        const docLink = document.createElement('div');\n",
              "        docLink.innerHTML = docLinkHtml;\n",
              "        element.appendChild(docLink);\n",
              "      }\n",
              "    </script>\n",
              "  </div>\n",
              "\n",
              "\n",
              "    <div id=\"df-5d5fdac5-c0dd-4578-abb6-626950ef5068\">\n",
              "      <button class=\"colab-df-quickchart\" onclick=\"quickchart('df-5d5fdac5-c0dd-4578-abb6-626950ef5068')\"\n",
              "                title=\"Suggest charts\"\n",
              "                style=\"display:none;\">\n",
              "\n",
              "<svg xmlns=\"http://www.w3.org/2000/svg\" height=\"24px\"viewBox=\"0 0 24 24\"\n",
              "     width=\"24px\">\n",
              "    <g>\n",
              "        <path d=\"M19 3H5c-1.1 0-2 .9-2 2v14c0 1.1.9 2 2 2h14c1.1 0 2-.9 2-2V5c0-1.1-.9-2-2-2zM9 17H7v-7h2v7zm4 0h-2V7h2v10zm4 0h-2v-4h2v4z\"/>\n",
              "    </g>\n",
              "</svg>\n",
              "      </button>\n",
              "\n",
              "<style>\n",
              "  .colab-df-quickchart {\n",
              "      --bg-color: #E8F0FE;\n",
              "      --fill-color: #1967D2;\n",
              "      --hover-bg-color: #E2EBFA;\n",
              "      --hover-fill-color: #174EA6;\n",
              "      --disabled-fill-color: #AAA;\n",
              "      --disabled-bg-color: #DDD;\n",
              "  }\n",
              "\n",
              "  [theme=dark] .colab-df-quickchart {\n",
              "      --bg-color: #3B4455;\n",
              "      --fill-color: #D2E3FC;\n",
              "      --hover-bg-color: #434B5C;\n",
              "      --hover-fill-color: #FFFFFF;\n",
              "      --disabled-bg-color: #3B4455;\n",
              "      --disabled-fill-color: #666;\n",
              "  }\n",
              "\n",
              "  .colab-df-quickchart {\n",
              "    background-color: var(--bg-color);\n",
              "    border: none;\n",
              "    border-radius: 50%;\n",
              "    cursor: pointer;\n",
              "    display: none;\n",
              "    fill: var(--fill-color);\n",
              "    height: 32px;\n",
              "    padding: 0;\n",
              "    width: 32px;\n",
              "  }\n",
              "\n",
              "  .colab-df-quickchart:hover {\n",
              "    background-color: var(--hover-bg-color);\n",
              "    box-shadow: 0 1px 2px rgba(60, 64, 67, 0.3), 0 1px 3px 1px rgba(60, 64, 67, 0.15);\n",
              "    fill: var(--button-hover-fill-color);\n",
              "  }\n",
              "\n",
              "  .colab-df-quickchart-complete:disabled,\n",
              "  .colab-df-quickchart-complete:disabled:hover {\n",
              "    background-color: var(--disabled-bg-color);\n",
              "    fill: var(--disabled-fill-color);\n",
              "    box-shadow: none;\n",
              "  }\n",
              "\n",
              "  .colab-df-spinner {\n",
              "    border: 2px solid var(--fill-color);\n",
              "    border-color: transparent;\n",
              "    border-bottom-color: var(--fill-color);\n",
              "    animation:\n",
              "      spin 1s steps(1) infinite;\n",
              "  }\n",
              "\n",
              "  @keyframes spin {\n",
              "    0% {\n",
              "      border-color: transparent;\n",
              "      border-bottom-color: var(--fill-color);\n",
              "      border-left-color: var(--fill-color);\n",
              "    }\n",
              "    20% {\n",
              "      border-color: transparent;\n",
              "      border-left-color: var(--fill-color);\n",
              "      border-top-color: var(--fill-color);\n",
              "    }\n",
              "    30% {\n",
              "      border-color: transparent;\n",
              "      border-left-color: var(--fill-color);\n",
              "      border-top-color: var(--fill-color);\n",
              "      border-right-color: var(--fill-color);\n",
              "    }\n",
              "    40% {\n",
              "      border-color: transparent;\n",
              "      border-right-color: var(--fill-color);\n",
              "      border-top-color: var(--fill-color);\n",
              "    }\n",
              "    60% {\n",
              "      border-color: transparent;\n",
              "      border-right-color: var(--fill-color);\n",
              "    }\n",
              "    80% {\n",
              "      border-color: transparent;\n",
              "      border-right-color: var(--fill-color);\n",
              "      border-bottom-color: var(--fill-color);\n",
              "    }\n",
              "    90% {\n",
              "      border-color: transparent;\n",
              "      border-bottom-color: var(--fill-color);\n",
              "    }\n",
              "  }\n",
              "</style>\n",
              "\n",
              "      <script>\n",
              "        async function quickchart(key) {\n",
              "          const quickchartButtonEl =\n",
              "            document.querySelector('#' + key + ' button');\n",
              "          quickchartButtonEl.disabled = true;  // To prevent multiple clicks.\n",
              "          quickchartButtonEl.classList.add('colab-df-spinner');\n",
              "          try {\n",
              "            const charts = await google.colab.kernel.invokeFunction(\n",
              "                'suggestCharts', [key], {});\n",
              "          } catch (error) {\n",
              "            console.error('Error during call to suggestCharts:', error);\n",
              "          }\n",
              "          quickchartButtonEl.classList.remove('colab-df-spinner');\n",
              "          quickchartButtonEl.classList.add('colab-df-quickchart-complete');\n",
              "        }\n",
              "        (() => {\n",
              "          let quickchartButtonEl =\n",
              "            document.querySelector('#df-5d5fdac5-c0dd-4578-abb6-626950ef5068 button');\n",
              "          quickchartButtonEl.style.display =\n",
              "            google.colab.kernel.accessAllowed ? 'block' : 'none';\n",
              "        })();\n",
              "      </script>\n",
              "    </div>\n",
              "\n",
              "    </div>\n",
              "  </div>\n"
            ],
            "application/vnd.google.colaboratory.intrinsic+json": {
              "type": "dataframe",
              "variable_name": "X"
            }
          },
          "metadata": {},
          "execution_count": 3
        }
      ]
    },
    {
      "cell_type": "markdown",
      "source": [
        "## Train-Test Split\n",
        "We'll perform an 80/20 split and train a **Logistic Regression** model to establish a baseline."
      ],
      "metadata": {
        "id": "_lcdTi-QSGqw"
      }
    },
    {
      "cell_type": "code",
      "source": [
        "# Code Cell\n",
        "X_train, X_test, y_train, y_test = train_test_split(X, y, test_size=0.2, random_state=42, stratify=y)\n",
        "\n",
        "lr = LogisticRegression(max_iter=10000, solver='liblinear')\n",
        "lr.fit(X_train, y_train)\n",
        "\n",
        "y_pred = lr.predict(X_test)\n",
        "print(\"Test Accuracy:\", accuracy_score(y_test, y_pred))\n",
        "print(classification_report(y_test, y_pred))"
      ],
      "metadata": {
        "colab": {
          "base_uri": "https://localhost:8080/"
        },
        "id": "RG1m0skfSEMm",
        "outputId": "d56fe587-0fb2-42b7-f1d8-ee91c5566778"
      },
      "execution_count": null,
      "outputs": [
        {
          "output_type": "stream",
          "name": "stdout",
          "text": [
            "Test Accuracy: 0.956140350877193\n",
            "              precision    recall  f1-score   support\n",
            "\n",
            "           0       0.95      0.93      0.94        42\n",
            "           1       0.96      0.97      0.97        72\n",
            "\n",
            "    accuracy                           0.96       114\n",
            "   macro avg       0.96      0.95      0.95       114\n",
            "weighted avg       0.96      0.96      0.96       114\n",
            "\n"
          ]
        }
      ]
    },
    {
      "cell_type": "markdown",
      "source": [
        "# Cross-Validation in Classification\n",
        "\n",
        "Cross-validation splits the data into multiple training/validation sets to evaluate model performance more reliably than a single split.\n",
        "\n",
        "## k-Fold Cross-Validation (k=5):\n",
        "\n",
        "- Split data into 5 equal parts (folds)\n",
        "- Train on 4 folds, validate on 1\n",
        "- Repeat for all folds and average the performance"
      ],
      "metadata": {
        "id": "W9QkWoDfSNNu"
      }
    },
    {
      "cell_type": "markdown",
      "source": [
        "## Logistic Regression: 5-Fold Cross-Validation using Accuracy"
      ],
      "metadata": {
        "id": "I9rt4CNmSYpS"
      }
    },
    {
      "cell_type": "code",
      "source": [
        "cv_scores = cross_val_score(LogisticRegression(max_iter=10000, solver='liblinear'), X, y, cv=5, scoring='accuracy')\n",
        "\n",
        "print(\"Fold-wise Accuracy Scores:\", cv_scores)\n",
        "print(\"Average Accuracy:\", np.mean(cv_scores))"
      ],
      "metadata": {
        "colab": {
          "base_uri": "https://localhost:8080/"
        },
        "id": "HGQXxTArSLPB",
        "outputId": "627413ea-0f65-4f2e-e98a-0a7311360fed"
      },
      "execution_count": null,
      "outputs": [
        {
          "output_type": "stream",
          "name": "stdout",
          "text": [
            "Fold-wise Accuracy Scores: [0.92982456 0.93859649 0.97368421 0.94736842 0.96460177]\n",
            "Average Accuracy: 0.9508150908244062\n"
          ]
        }
      ]
    },
    {
      "cell_type": "markdown",
      "source": [
        "## Decision Tree Classifier: 5-Fold Cross-Validation using Accuracy"
      ],
      "metadata": {
        "id": "_opGLkAjTenQ"
      }
    },
    {
      "cell_type": "code",
      "source": [
        "dt = DecisionTreeClassifier(random_state=42)\n",
        "cv_scores_dt = cross_val_score(dt, X, y, cv=5, scoring='accuracy')\n",
        "\n",
        "print(\"Fold-wise Accuracy Scores (DT):\", cv_scores_dt)\n",
        "print(\"Average Accuracy (DT):\", np.mean(cv_scores_dt))"
      ],
      "metadata": {
        "colab": {
          "base_uri": "https://localhost:8080/"
        },
        "id": "U_p3IRxUTdfL",
        "outputId": "ee0b8b9a-daf1-4ea8-e076-94d71e3faf3f"
      },
      "execution_count": null,
      "outputs": [
        {
          "output_type": "stream",
          "name": "stdout",
          "text": [
            "Fold-wise Accuracy Scores (DT): [0.9122807  0.90350877 0.92982456 0.95614035 0.88495575]\n",
            "Average Accuracy (DT): 0.9173420276354604\n"
          ]
        }
      ]
    },
    {
      "cell_type": "markdown",
      "source": [
        "# GridSearchCV for Hyperparameter Tuning\n"
      ],
      "metadata": {
        "id": "nidblpQBSkWB"
      }
    },
    {
      "cell_type": "markdown",
      "source": [
        "## Understanding the Complete GridSearchCV Process\n",
        "\n",
        "`GridSearchCV` is a powerful model selection tool provided by `sklearn` to help find the **best hyperparameters** for a given model using **cross-validation**.\n",
        "\n",
        "Here is how the entire process works:\n",
        "\n",
        "---\n",
        "\n",
        "### Step-by-Step Working of GridSearchCV\n",
        "\n",
        "1. **Define the Model**  \n",
        "   You start by choosing an estimator (e.g., `DecisionTreeClassifier`, `LogisticRegression`, etc.).\n",
        "\n",
        "2. **Create a Parameter Grid**  \n",
        "   You specify a dictionary of hyperparameters to test.  \n",
        "   Example:\n",
        "   ```python\n",
        "   param_grid = {\n",
        "       'max_depth': [3, 5, 10],\n",
        "       'criterion': ['gini', 'entropy']\n",
        "   }\n",
        "   ```\n",
        "\n",
        "3. **Initialize GridSearchCV**  \n",
        "   You pass the estimator and parameter grid to `GridSearchCV`, and define:\n",
        "   - `cv`: Number of folds in cross-validation\n",
        "   - `scoring`: Evaluation metric (e.g., `'accuracy'`, `'f1'`, `'neg_mean_squared_error'`)\n",
        "   - `n_jobs=-1`: Use all available CPU cores for faster computation\n",
        "\n",
        "   Example:\n",
        "   ```python\n",
        "   grid = GridSearchCV(estimator, param_grid, cv=5, scoring='accuracy')\n",
        "   ```\n",
        "\n",
        "4. **Fit on Training Data**  \n",
        "   When you call `grid.fit(X_train, y_train)`, GridSearchCV:\n",
        "   - Iterates through **all combinations** of hyperparameters\n",
        "   - For **each combination**:\n",
        "     - Performs **k-fold cross-validation** (e.g., 5-fold)\n",
        "     - Calculates the **average performance score**\n",
        "   - Keeps track of the **best-performing hyperparameter combination**\n",
        "\n",
        "5. **Retrieve Best Model & Parameters**  \n",
        "   After fitting:\n",
        "   - `grid.best_params_` → Shows the best hyperparameters found\n",
        "   - `grid.best_score_` → Shows the best cross-validated score\n",
        "   - `grid.best_estimator_` → Returns the final model trained with the best parameters on the **entire training set**\n",
        "\n",
        "---\n",
        "\n",
        "### Why Use GridSearchCV?\n",
        "\n",
        "- Avoids manual trial-and-error of hyperparameters.\n",
        "- Ensures fair evaluation using cross-validation.\n",
        "- Helps find a model that **generalizes better** to unseen data.\n",
        "- Works with **any estimator** in `sklearn`.\n",
        "\n",
        "---\n",
        "\n",
        "### Summary of Key Attributes\n",
        "\n",
        "| Attribute | Description |\n",
        "|-----------|-------------|\n",
        "| `best_params_` | Dictionary of the best hyperparameter combination |\n",
        "| `best_score_`  | Best cross-validation score achieved |\n",
        "| `best_estimator_` | Trained model with best hyperparameters |\n",
        "| `cv_results_` | Full history of all parameter combinations and their scores |\n",
        "\n",
        "---\n",
        "\n",
        "GridSearchCV is especially useful in combination with **pipelines**, **scaling**, and **preprocessing**, and it can be used for both **classification** and **regression** problems."
      ],
      "metadata": {
        "id": "Zl3XMHY6WK1N"
      }
    },
    {
      "cell_type": "markdown",
      "source": [
        "\n",
        "GridSearchCV allows us to find the best combination of hyperparameters through exhaustive search.\n",
        "\n",
        "We'll use it to tune:\n",
        "- Decision Tree Classifier (`max_depth`, `min_samples_split`, `criterion`)"
      ],
      "metadata": {
        "id": "H_RJSUxFWJ6K"
      }
    },
    {
      "cell_type": "markdown",
      "source": [
        "## Decision Tree Grid Search (Explanation)\n"
      ],
      "metadata": {
        "id": "zq9f0lpGStxK"
      }
    },
    {
      "cell_type": "markdown",
      "source": [
        "\n",
        "We’ll search over:\n",
        "- `max_depth`: How deep the tree can go\n",
        "- `min_samples_split`: Minimum samples to split a node\n",
        "- `criterion`: Splitting strategy ('gini', 'entropy')"
      ],
      "metadata": {
        "id": "6qcCnI49ppks"
      }
    },
    {
      "cell_type": "markdown",
      "source": [
        "### 1. What is `param_grid_dt`?\n",
        "\n",
        "This dictionary defines the hyperparameters and their values to be explored during grid search:\n",
        "\n",
        "- `'max_depth'`: Maximum depth of the tree.\n",
        "    - `[3, 5, 10, None]`: Tests shallow, medium, deep, and unlimited depth trees.\n",
        "- `'min_samples_split'`: Minimum samples required to split an internal node.\n",
        "    - `[2, 5, 10]`: Larger values make trees less complex.\n",
        "- `'criterion'`: Function used to measure the quality of a split.\n",
        "    - `['gini', 'entropy']`: Two standard methods — Gini Impurity and Entropy (Information Gain).\n",
        "\n",
        "This creates **4 × 3 × 2 = 24 different combinations** to try.\n",
        "\n",
        "---\n",
        "\n",
        "### 2. What does `GridSearchCV(...)` do?\n",
        "\n",
        "- `DecisionTreeClassifier(random_state=42)`: The base estimator we want to tune.\n",
        "- `param_grid=param_grid_dt`: The hyperparameter space to search.\n",
        "- `cv=5`: Perform **5-fold Cross-Validation**:\n",
        "    - For each parameter combination, the model is trained/validated across 5 different splits of the training data.\n",
        "- `scoring='accuracy'`: Uses **classification accuracy** to score performance.\n",
        "- `n_jobs=-1`: Use **all CPU cores** to parallelize computation.\n",
        "\n",
        "This means the model will be trained **24 × 5 = 120 times** during the search.\n",
        "\n",
        "---\n",
        "\n",
        "### 3. What happens during `grid_dt.fit(X_train, y_train)`?\n",
        "\n",
        "When `.fit()` is called:\n",
        "\n",
        "1. GridSearch tries all 24 combinations of parameters.\n",
        "2. For each combination:\n",
        "    - It performs **5-fold cross-validation**.\n",
        "    - Calculates the **average accuracy** across the 5 folds.\n",
        "3. Tracks the combination with the highest average accuracy.\n",
        "\n",
        "---\n",
        "\n",
        "### 4. What do `best_params_` and `best_score_` show?\n",
        "\n",
        "- `grid_dt.best_params_`:\n",
        "    - Returns the **best hyperparameter combination** found during search.\n",
        "- `grid_dt.best_score_`:\n",
        "    - The **highest average accuracy** achieved across 5-folds using those best parameters.\n",
        "\n",
        "---"
      ],
      "metadata": {
        "id": "tJoSz8w3VeAn"
      }
    },
    {
      "cell_type": "code",
      "source": [
        "param_grid_dt = {\n",
        "    'max_depth': [3, 5, 10, None],\n",
        "    'min_samples_split': [2, 5, 10],\n",
        "    'criterion': ['gini', 'entropy']\n",
        "}\n",
        "\n",
        "grid_dt = GridSearchCV(DecisionTreeClassifier(random_state=42), param_grid_dt, cv=5, scoring='accuracy', n_jobs=-1)\n",
        "grid_dt.fit(X_train, y_train)\n",
        "\n",
        "print(\"Best Parameters (DT):\", grid_dt.best_params_)\n",
        "print(\"Best CV Accuracy (DT):\", grid_dt.best_score_)"
      ],
      "metadata": {
        "colab": {
          "base_uri": "https://localhost:8080/"
        },
        "id": "BvBpo_pDSgzd",
        "outputId": "ffab74ee-1ef0-4821-f282-462e41622bcb"
      },
      "execution_count": null,
      "outputs": [
        {
          "output_type": "stream",
          "name": "stdout",
          "text": [
            "Best Parameters (DT): {'criterion': 'gini', 'max_depth': 5, 'min_samples_split': 5}\n",
            "Best CV Accuracy (DT): 0.9384615384615385\n"
          ]
        }
      ]
    },
    {
      "cell_type": "markdown",
      "source": [
        "## Decision Tree (Best) Test Performance"
      ],
      "metadata": {
        "id": "ZVpTaUNFUMxB"
      }
    },
    {
      "cell_type": "code",
      "source": [
        "best_dt = grid_dt.best_estimator_\n",
        "\n",
        "y_pred_dt = best_dt.predict(X_test)\n",
        "\n",
        "print(\"\\nBest Decision Tree Test Accuracy:\", accuracy_score(y_test, y_pred_dt))\n",
        "print(confusion_matrix(y_test, y_pred_dt))"
      ],
      "metadata": {
        "colab": {
          "base_uri": "https://localhost:8080/"
        },
        "id": "tsjeoueDUDrK",
        "outputId": "2086920c-ca40-44c1-bdeb-2f92201c62e4"
      },
      "execution_count": null,
      "outputs": [
        {
          "output_type": "stream",
          "name": "stdout",
          "text": [
            "\n",
            "Best Decision Tree Test Accuracy: 0.9210526315789473\n",
            "[[39  3]\n",
            " [ 6 66]]\n"
          ]
        }
      ]
    },
    {
      "cell_type": "code",
      "source": [
        "depths = range(1, 21)\n",
        "accuracy_scores = []\n",
        "\n",
        "for d in depths:\n",
        "    tree = DecisionTreeClassifier(max_depth=d, random_state=42)\n",
        "    scores = cross_val_score(tree, X, y, cv=5, scoring='accuracy')\n",
        "    accuracy_scores.append(np.mean(scores))\n",
        "\n",
        "plt.figure(figsize=(10,6))\n",
        "plt.plot(depths, accuracy_scores, marker='o')\n",
        "plt.xlabel(\"Tree Depth\")\n",
        "plt.ylabel(\"CV Accuracy\")\n",
        "plt.title(\"Effect of Tree Depth on Decision Tree Performance\")\n",
        "plt.grid(True)\n",
        "plt.show()"
      ],
      "metadata": {
        "colab": {
          "base_uri": "https://localhost:8080/",
          "height": 564
        },
        "id": "_ABy8GiOUYkP",
        "outputId": "085b5586-4b04-4172-8156-38e45f6ee87d"
      },
      "execution_count": null,
      "outputs": [
        {
          "output_type": "display_data",
          "data": {
            "text/plain": [
              "<Figure size 1000x600 with 1 Axes>"
            ],
            "image/png": "[encoded data removed]"
          },
          "metadata": {}
        }
      ]
    },
    {
      "cell_type": "markdown",
      "source": [
        "- Cross-validation provides reliable estimates of model generalization.\n",
        "- `cross_val_score` is simple for quick evaluations.\n",
        "- `GridSearchCV` helps find the best hyperparameters through exhaustive search.\n",
        "- Logistic Regression and Decision Trees are both interpretable, effective classifiers.\n",
        "- We used the Breast Cancer dataset to demonstrate these techniques.\n"
      ],
      "metadata": {
        "id": "oEuKeTU6UhK-"
      }
    },
    {
      "cell_type": "code",
      "source": [],
      "metadata": {
        "id": "29wEj188Udor"
      },
      "execution_count": null,
      "outputs": []
    }
  ]
}